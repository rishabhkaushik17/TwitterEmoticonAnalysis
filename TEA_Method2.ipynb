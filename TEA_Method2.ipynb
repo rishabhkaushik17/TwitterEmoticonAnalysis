{
 "cells": [
  {
   "cell_type": "code",
   "execution_count": 1,
   "id": "8ce8133e",
   "metadata": {},
   "outputs": [],
   "source": [
    "import pandas as pd\n",
    "import numpy as np"
   ]
  },
  {
   "cell_type": "code",
   "execution_count": 2,
   "id": "e1a6267d",
   "metadata": {},
   "outputs": [],
   "source": [
    "df_emojis = pd.read_csv('dataset/15_emoticon_data.csv')\n",
    "df_tweets = pd.read_csv('dataset/1k_data_emoji_tweets_senti_posneg.csv')"
   ]
  },
  {
   "cell_type": "code",
   "execution_count": 3,
   "id": "8304bdf2",
   "metadata": {},
   "outputs": [
    {
     "data": {
      "text/html": [
       "<div>\n",
       "<style scoped>\n",
       "    .dataframe tbody tr th:only-of-type {\n",
       "        vertical-align: middle;\n",
       "    }\n",
       "\n",
       "    .dataframe tbody tr th {\n",
       "        vertical-align: top;\n",
       "    }\n",
       "\n",
       "    .dataframe thead th {\n",
       "        text-align: right;\n",
       "    }\n",
       "</style>\n",
       "<table border=\"1\" class=\"dataframe\">\n",
       "  <thead>\n",
       "    <tr style=\"text-align: right;\">\n",
       "      <th></th>\n",
       "      <th>Unnamed: 0</th>\n",
       "      <th>Emoji</th>\n",
       "      <th>Unicode codepoint</th>\n",
       "      <th>Unicode name</th>\n",
       "    </tr>\n",
       "  </thead>\n",
       "  <tbody>\n",
       "    <tr>\n",
       "      <th>0</th>\n",
       "      <td>0</td>\n",
       "      <td>😍</td>\n",
       "      <td>0x1f60d</td>\n",
       "      <td>SMILING FACE WITH HEART-SHAPED EYES</td>\n",
       "    </tr>\n",
       "    <tr>\n",
       "      <th>1</th>\n",
       "      <td>1</td>\n",
       "      <td>😭</td>\n",
       "      <td>0x1f62d</td>\n",
       "      <td>LOUDLY CRYING FACE</td>\n",
       "    </tr>\n",
       "    <tr>\n",
       "      <th>2</th>\n",
       "      <td>2</td>\n",
       "      <td>😘</td>\n",
       "      <td>0x1f618</td>\n",
       "      <td>FACE THROWING A KISS</td>\n",
       "    </tr>\n",
       "    <tr>\n",
       "      <th>3</th>\n",
       "      <td>3</td>\n",
       "      <td>😊</td>\n",
       "      <td>0x1f60a</td>\n",
       "      <td>SMILING FACE WITH SMILING EYES</td>\n",
       "    </tr>\n",
       "    <tr>\n",
       "      <th>4</th>\n",
       "      <td>4</td>\n",
       "      <td>😁</td>\n",
       "      <td>0x1f601</td>\n",
       "      <td>GRINNING FACE WITH SMILING EYES</td>\n",
       "    </tr>\n",
       "    <tr>\n",
       "      <th>5</th>\n",
       "      <td>5</td>\n",
       "      <td>😉</td>\n",
       "      <td>0x1f609</td>\n",
       "      <td>WINKING FACE</td>\n",
       "    </tr>\n",
       "    <tr>\n",
       "      <th>6</th>\n",
       "      <td>6</td>\n",
       "      <td>😄</td>\n",
       "      <td>0x1f604</td>\n",
       "      <td>SMILING FACE WITH OPEN MOUTH AND SMILING EYES</td>\n",
       "    </tr>\n",
       "    <tr>\n",
       "      <th>7</th>\n",
       "      <td>7</td>\n",
       "      <td>😒</td>\n",
       "      <td>0x1f612</td>\n",
       "      <td>UNAMUSED FACE</td>\n",
       "    </tr>\n",
       "    <tr>\n",
       "      <th>8</th>\n",
       "      <td>8</td>\n",
       "      <td>😔</td>\n",
       "      <td>0x1f614</td>\n",
       "      <td>PENSIVE FACE</td>\n",
       "    </tr>\n",
       "    <tr>\n",
       "      <th>9</th>\n",
       "      <td>9</td>\n",
       "      <td>😢</td>\n",
       "      <td>0x1f622</td>\n",
       "      <td>CRYING FACE</td>\n",
       "    </tr>\n",
       "    <tr>\n",
       "      <th>10</th>\n",
       "      <td>10</td>\n",
       "      <td>😆</td>\n",
       "      <td>0x1f606</td>\n",
       "      <td>SMILING FACE WITH OPEN MOUTH AND TIGHTLY-CLOSE...</td>\n",
       "    </tr>\n",
       "    <tr>\n",
       "      <th>11</th>\n",
       "      <td>11</td>\n",
       "      <td>😀</td>\n",
       "      <td>0x1f600</td>\n",
       "      <td>GRINNING FACE</td>\n",
       "    </tr>\n",
       "    <tr>\n",
       "      <th>12</th>\n",
       "      <td>12</td>\n",
       "      <td>😐</td>\n",
       "      <td>0x1f610</td>\n",
       "      <td>NEUTRAL FACE</td>\n",
       "    </tr>\n",
       "    <tr>\n",
       "      <th>13</th>\n",
       "      <td>13</td>\n",
       "      <td>😛</td>\n",
       "      <td>0x1f61b</td>\n",
       "      <td>FACE WITH STUCK-OUT TONGUE</td>\n",
       "    </tr>\n",
       "    <tr>\n",
       "      <th>14</th>\n",
       "      <td>14</td>\n",
       "      <td>😲</td>\n",
       "      <td>0x1f632</td>\n",
       "      <td>ASTONISHED FACE</td>\n",
       "    </tr>\n",
       "    <tr>\n",
       "      <th>15</th>\n",
       "      <td>15</td>\n",
       "      <td>😧</td>\n",
       "      <td>0x1f627</td>\n",
       "      <td>ANGUISHED FACE</td>\n",
       "    </tr>\n",
       "  </tbody>\n",
       "</table>\n",
       "</div>"
      ],
      "text/plain": [
       "    Unnamed: 0 Emoji Unicode codepoint  \\\n",
       "0            0     😍           0x1f60d   \n",
       "1            1     😭           0x1f62d   \n",
       "2            2     😘           0x1f618   \n",
       "3            3     😊           0x1f60a   \n",
       "4            4     😁           0x1f601   \n",
       "5            5     😉           0x1f609   \n",
       "6            6     😄           0x1f604   \n",
       "7            7     😒           0x1f612   \n",
       "8            8     😔           0x1f614   \n",
       "9            9     😢           0x1f622   \n",
       "10          10     😆           0x1f606   \n",
       "11          11     😀           0x1f600   \n",
       "12          12     😐           0x1f610   \n",
       "13          13     😛           0x1f61b   \n",
       "14          14     😲           0x1f632   \n",
       "15          15     😧           0x1f627   \n",
       "\n",
       "                                         Unicode name  \n",
       "0                 SMILING FACE WITH HEART-SHAPED EYES  \n",
       "1                                  LOUDLY CRYING FACE  \n",
       "2                                FACE THROWING A KISS  \n",
       "3                      SMILING FACE WITH SMILING EYES  \n",
       "4                     GRINNING FACE WITH SMILING EYES  \n",
       "5                                        WINKING FACE  \n",
       "6       SMILING FACE WITH OPEN MOUTH AND SMILING EYES  \n",
       "7                                       UNAMUSED FACE  \n",
       "8                                        PENSIVE FACE  \n",
       "9                                         CRYING FACE  \n",
       "10  SMILING FACE WITH OPEN MOUTH AND TIGHTLY-CLOSE...  \n",
       "11                                      GRINNING FACE  \n",
       "12                                       NEUTRAL FACE  \n",
       "13                         FACE WITH STUCK-OUT TONGUE  \n",
       "14                                    ASTONISHED FACE  \n",
       "15                                     ANGUISHED FACE  "
      ]
     },
     "execution_count": 3,
     "metadata": {},
     "output_type": "execute_result"
    }
   ],
   "source": [
    "df_emojis"
   ]
  },
  {
   "cell_type": "code",
   "execution_count": 4,
   "id": "0a50d643",
   "metadata": {},
   "outputs": [
    {
     "data": {
      "text/html": [
       "<div>\n",
       "<style scoped>\n",
       "    .dataframe tbody tr th:only-of-type {\n",
       "        vertical-align: middle;\n",
       "    }\n",
       "\n",
       "    .dataframe tbody tr th {\n",
       "        vertical-align: top;\n",
       "    }\n",
       "\n",
       "    .dataframe thead th {\n",
       "        text-align: right;\n",
       "    }\n",
       "</style>\n",
       "<table border=\"1\" class=\"dataframe\">\n",
       "  <thead>\n",
       "    <tr style=\"text-align: right;\">\n",
       "      <th></th>\n",
       "      <th>Unnamed: 0</th>\n",
       "      <th>sentiment</th>\n",
       "      <th>post</th>\n",
       "    </tr>\n",
       "  </thead>\n",
       "  <tbody>\n",
       "    <tr>\n",
       "      <th>0</th>\n",
       "      <td>0</td>\n",
       "      <td>1</td>\n",
       "      <td>Client work for rt and favorite happy.1</td>\n",
       "    </tr>\n",
       "    <tr>\n",
       "      <th>1</th>\n",
       "      <td>1</td>\n",
       "      <td>1</td>\n",
       "      <td>year old i am commenting on all the new ladyli...</td>\n",
       "    </tr>\n",
       "    <tr>\n",
       "      <th>2</th>\n",
       "      <td>2</td>\n",
       "      <td>1</td>\n",
       "      <td>Superstar thanks so much for the kind words! L...</td>\n",
       "    </tr>\n",
       "    <tr>\n",
       "      <th>3</th>\n",
       "      <td>3</td>\n",
       "      <td>1</td>\n",
       "      <td>Surround yourself with positivity happy.1</td>\n",
       "    </tr>\n",
       "    <tr>\n",
       "      <th>4</th>\n",
       "      <td>4</td>\n",
       "      <td>1</td>\n",
       "      <td>getting 70k</td>\n",
       "    </tr>\n",
       "    <tr>\n",
       "      <th>...</th>\n",
       "      <td>...</td>\n",
       "      <td>...</td>\n",
       "      <td>...</td>\n",
       "    </tr>\n",
       "    <tr>\n",
       "      <th>995</th>\n",
       "      <td>995</td>\n",
       "      <td>0</td>\n",
       "      <td>Last day of the camp tomorrow</td>\n",
       "    </tr>\n",
       "    <tr>\n",
       "      <th>996</th>\n",
       "      <td>996</td>\n",
       "      <td>1</td>\n",
       "      <td>let me know! :-) (I'M A CHAMPION!!!!!)Elder Le...</td>\n",
       "    </tr>\n",
       "    <tr>\n",
       "      <th>997</th>\n",
       "      <td>997</td>\n",
       "      <td>0</td>\n",
       "      <td>and i would never forget about you!!</td>\n",
       "    </tr>\n",
       "    <tr>\n",
       "      <th>998</th>\n",
       "      <td>998</td>\n",
       "      <td>1</td>\n",
       "      <td>i was telling you to read a book today. knowle...</td>\n",
       "    </tr>\n",
       "    <tr>\n",
       "      <th>999</th>\n",
       "      <td>999</td>\n",
       "      <td>1</td>\n",
       "      <td>Play your part in raising funds for :</td>\n",
       "    </tr>\n",
       "  </tbody>\n",
       "</table>\n",
       "<p>1000 rows × 3 columns</p>\n",
       "</div>"
      ],
      "text/plain": [
       "     Unnamed: 0  sentiment                                               post\n",
       "0             0          1            Client work for rt and favorite happy.1\n",
       "1             1          1  year old i am commenting on all the new ladyli...\n",
       "2             2          1  Superstar thanks so much for the kind words! L...\n",
       "3             3          1          Surround yourself with positivity happy.1\n",
       "4             4          1                                        getting 70k\n",
       "..          ...        ...                                                ...\n",
       "995         995          0                      Last day of the camp tomorrow\n",
       "996         996          1  let me know! :-) (I'M A CHAMPION!!!!!)Elder Le...\n",
       "997         997          0               and i would never forget about you!!\n",
       "998         998          1  i was telling you to read a book today. knowle...\n",
       "999         999          1              Play your part in raising funds for :\n",
       "\n",
       "[1000 rows x 3 columns]"
      ]
     },
     "execution_count": 4,
     "metadata": {},
     "output_type": "execute_result"
    }
   ],
   "source": [
    "df_tweets"
   ]
  },
  {
   "cell_type": "code",
   "execution_count": 5,
   "id": "4366bb8b",
   "metadata": {},
   "outputs": [],
   "source": [
    "import nltk\n",
    "from nltk.corpus import stopwords\n",
    "from sklearn.feature_extraction.text import TfidfVectorizer\n",
    "from sklearn.model_selection import train_test_split\n",
    "from sklearn import naive_bayes\n",
    "from sklearn.metrics import roc_auc_score"
   ]
  },
  {
   "cell_type": "code",
   "execution_count": 6,
   "id": "52edf4e2",
   "metadata": {},
   "outputs": [],
   "source": [
    "stopset = set(stopwords.words('english'))\n",
    "vectorizer = TfidfVectorizer(use_idf=True, lowercase=True,strip_accents='ascii', stop_words=stopset)"
   ]
  },
  {
   "cell_type": "code",
   "execution_count": 7,
   "id": "876020e0",
   "metadata": {},
   "outputs": [],
   "source": [
    "df_tweets2 = df_tweets"
   ]
  },
  {
   "cell_type": "code",
   "execution_count": 8,
   "id": "dbb01600",
   "metadata": {},
   "outputs": [
    {
     "name": "stdout",
     "output_type": "stream",
     "text": [
      "(1000,)\n",
      "(1000, 2108)\n",
      "1000 observations X 2108 unique words\n"
     ]
    }
   ],
   "source": [
    "y = df_tweets2.sentiment\n",
    "X = vectorizer.fit_transform(df_tweets2.post)\n",
    "\n",
    "print(y.shape)\n",
    "print(X.shape)\n",
    "print(f'{X.shape[0]} observations X {X.shape[1]} unique words')"
   ]
  },
  {
   "cell_type": "code",
   "execution_count": 51,
   "id": "9722d8f3",
   "metadata": {},
   "outputs": [
    {
     "data": {
      "text/plain": [
       "0.7938048561727209"
      ]
     },
     "execution_count": 51,
     "metadata": {},
     "output_type": "execute_result"
    }
   ],
   "source": [
    "X_train, X_test, y_train, y_test = train_test_split(X, y, test_size=0.25,random_state=None)\n",
    "clf = naive_bayes.MultinomialNB()\n",
    "\n",
    "clf.fit(X_train, y_train)\n",
    "roc_auc_score(y_test, clf.predict_proba(X_test)[:,1])"
   ]
  },
  {
   "cell_type": "code",
   "execution_count": 52,
   "id": "c66e8011",
   "metadata": {},
   "outputs": [],
   "source": [
    "def get_sentiment(s_input = '😍 I love sentiment analysis :) 😊'):\n",
    "    # turn input into array\n",
    "    input_array= np.array([s_input])\n",
    "    # vectorize the input\n",
    "    input_vector = vectorizer.transform(input_array)\n",
    "    # predict the score of vector\n",
    "    pred_senti = clf.predict(input_vector)\n",
    "\n",
    "    return pred_senti[0]"
   ]
  },
  {
   "cell_type": "code",
   "execution_count": 56,
   "id": "6504eaf4",
   "metadata": {},
   "outputs": [
    {
     "data": {
      "text/plain": [
       "1"
      ]
     },
     "execution_count": 56,
     "metadata": {},
     "output_type": "execute_result"
    }
   ],
   "source": [
    "get_sentiment(\"I am happy : 😩😖😨\")"
   ]
  }
 ],
 "metadata": {
  "kernelspec": {
   "display_name": "Python 3 (ipykernel)",
   "language": "python",
   "name": "python3"
  },
  "language_info": {
   "codemirror_mode": {
    "name": "ipython",
    "version": 3
   },
   "file_extension": ".py",
   "mimetype": "text/x-python",
   "name": "python",
   "nbconvert_exporter": "python",
   "pygments_lexer": "ipython3",
   "version": "3.8.8"
  }
 },
 "nbformat": 4,
 "nbformat_minor": 5
}
